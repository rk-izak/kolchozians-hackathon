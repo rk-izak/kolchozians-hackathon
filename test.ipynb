{
 "cells": [
  {
   "cell_type": "code",
   "execution_count": 1,
   "id": "cccc48e3",
   "metadata": {},
   "outputs": [],
   "source": [
    "from game_agents.king import KingPiece\n",
    "from game_agents.chesspiece import ChessPiece"
   ]
  },
  {
   "cell_type": "code",
   "execution_count": 2,
   "id": "5517a844",
   "metadata": {},
   "outputs": [],
   "source": [
    "king = KingPiece(model='gpt-4.1')\n",
    "bishop = ChessPiece(model='gpt-4.1-nano', piece_name='Bishop')"
   ]
  },
  {
   "cell_type": "code",
   "execution_count": null,
   "id": "c6466ff1",
   "metadata": {},
   "outputs": [],
   "source": [
    "inital_state = \"rnbqkb1r/ppppnppp/8/4p3/4P3/8/PPPPNPPP/RNBQKB1R w KQkq - 2 3\""
   ]
  },
  {
   "cell_type": "code",
   "execution_count": null,
   "id": "9b379990",
   "metadata": {},
   "outputs": [],
   "source": [
    "# for _ in range(10):\n"
   ]
  }
 ],
 "metadata": {
  "kernelspec": {
   "display_name": "venv",
   "language": "python",
   "name": "python3"
  },
  "language_info": {
   "codemirror_mode": {
    "name": "ipython",
    "version": 3
   },
   "file_extension": ".py",
   "mimetype": "text/x-python",
   "name": "python",
   "nbconvert_exporter": "python",
   "pygments_lexer": "ipython3",
   "version": "3.12.8"
  }
 },
 "nbformat": 4,
 "nbformat_minor": 5
}
